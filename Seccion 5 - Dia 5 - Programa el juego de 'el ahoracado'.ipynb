{
 "cells": [
  {
   "cell_type": "code",
   "execution_count": 4,
   "metadata": {},
   "outputs": [
    {
     "name": "stdout",
     "output_type": "stream",
     "text": [
      "('clave2', 500)\n",
      "{'clave1': 100}\n",
      "Pyt%on_ _Total,,,,,,::#\n"
     ]
    }
   ],
   "source": [
    "#Metodos ayuda y documentacion\n",
    "\n",
    "dic = {'clave1':100, 'clave2':500}\n",
    "\n",
    "a = dic.popitem() #pop elimina en este caso la 2 clave y la podes alojar en una variable como en este caso.\n",
    "print(a)\n",
    "print(dic) \n",
    "\n",
    "#con ctrl podes ver lo que significa cada cosa\n"
   ]
  },
  {
   "cell_type": "code",
   "execution_count": 12,
   "metadata": {},
   "outputs": [
    {
     "name": "stdout",
     "output_type": "stream",
     "text": [
      "Pyt%on_ _Total,,,,,,::#\n",
      "['mango', 'banana', 'cereza', 'naranja', 'ciruela', 'pomelo']\n",
      "True\n"
     ]
    }
   ],
   "source": [
    "#Ejercicios:\n",
    "\n",
    "#1.\n",
    "a = \",:_#,,,,,,:::____##Pyt%on_ _Total,,,,,,::#\"\n",
    "b = a.lstrip(\",:_#\")\n",
    "print(b)\n",
    "#2.\n",
    "frutas = [\"mango\", \"banana\", \"cereza\", \"ciruela\", \"pomelo\"] \n",
    "x = frutas.insert(3,\"naranja\")\n",
    "print(frutas)\n",
    "#3.\n",
    "marcas_smartphones = {\"Samsung\", \"Xiaomi\", \"Apple\", \"Huawei\", \"LG\"}\n",
    "\n",
    "marcas_tv = {\"Sony\", \"Philips\", \"Samsung\", \"LG\"}\n",
    "\n",
    "conjuntos_aislados = marcas_smartphones.isdisjoint(marcas_tv) #Se usa para saber si hay similitudes, si es FALSE es porq hay, pero si es true es porq son diferentes\n",
    "print(conjuntos_aislados)"
   ]
  },
  {
   "cell_type": "code",
   "execution_count": 31,
   "metadata": {},
   "outputs": [
    {
     "name": "stdout",
     "output_type": "stream",
     "text": [
      "Hola \n",
      "Hola Fernando\n",
      "¡Hola Mundo!\n",
      "¡Bienvenido jorge!\n"
     ]
    }
   ],
   "source": [
    "#Funciones\n",
    "\n",
    "#def es para definir la funcion\n",
    "\n",
    "#luego de def va la_funcion ()\n",
    "\n",
    "#syntaxis: def mi_funcion ():\n",
    "'''\n",
    "Esta funcion sirve para:\n",
    "'''\n",
    "\n",
    "\n",
    "def saludar_persona():\n",
    "    '''\n",
    "    Esta funcion sirve para saludar a las personas\n",
    "    '''\n",
    "    print(\"Hola \")\n",
    "\n",
    "saludar_persona() #Forma de invocar la funcion\n",
    "\n",
    "def saludar_persona(nombre):\n",
    "    '''\n",
    "    Esta funcion sirve para saludar a las personas\n",
    "    '''\n",
    "    print(\"Hola \" + nombre)\n",
    "\n",
    "saludar_persona('Fernando') #Forma de invocar la funcion\n",
    "\n",
    "#Ejercicios\n",
    "\n",
    "#1.\n",
    "def saludar():\n",
    "    print(\"¡Hola Mundo!\")\n",
    "saludar()\n",
    "#2.\n",
    "\n",
    "def bienvenida(nombre_persona):\n",
    "    print(f\"¡Bienvenido {nombre_persona}!\")\n",
    "nombre_persona = \"Carlos\"\n",
    "\n",
    "#3.\n",
    "def cuadrado(un_numero):\n",
    "    print(un_numero**2)\n",
    "un_numero = 5\n",
    "\n",
    "\n"
   ]
  },
  {
   "cell_type": "code",
   "execution_count": 9,
   "metadata": {},
   "outputs": [
    {
     "name": "stdout",
     "output_type": "stream",
     "text": [
      "50\n",
      "81\n"
     ]
    },
    {
     "data": {
      "text/plain": [
       "528.0"
      ]
     },
     "execution_count": 9,
     "metadata": {},
     "output_type": "execute_result"
    }
   ],
   "source": [
    "#Return\n",
    "\n",
    "def multiplicar(numero1,numero2): #se defineentre estas 2 variables\n",
    "    return numero1 * numero2 #devolveme el numero 1 multiplicaod por el numero 2\n",
    "\n",
    "resultado = multiplicar(5,10) # se aloja en una variable el resultado de la funcion que nos multplica y les introdujimos numeros\n",
    "print(resultado) #imprimimos el resultado.\n",
    "\n",
    "#Ejercicios:\n",
    "\n",
    "#1.\n",
    "def potencia(num1,num2):\n",
    "    return num1 ** num2\n",
    "resultados = potencia(3,4)\n",
    "print(resultados)\n",
    "\n",
    "#2.\n",
    "def usd_a_eur(euros):\n",
    "    return euros*0.88\n",
    "dolares = 600\n",
    "\n",
    "usd_a_eur(dolares)\n",
    "\n",
    "#3.\n",
    "def invertir_palabra(palabra):\n",
    "    return palabra[::-1].upper()\n",
    "\n",
    "palabra = \"Python\"\n",
    "\n",
    "\n",
    "\n"
   ]
  }
 ],
 "metadata": {
  "kernelspec": {
   "display_name": "Python 3",
   "language": "python",
   "name": "python3"
  },
  "language_info": {
   "codemirror_mode": {
    "name": "ipython",
    "version": 3
   },
   "file_extension": ".py",
   "mimetype": "text/x-python",
   "name": "python",
   "nbconvert_exporter": "python",
   "pygments_lexer": "ipython3",
   "version": "3.12.5"
  }
 },
 "nbformat": 4,
 "nbformat_minor": 2
}
