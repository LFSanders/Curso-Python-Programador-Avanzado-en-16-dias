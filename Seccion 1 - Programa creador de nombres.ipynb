{
 "cells": [
  {
   "cell_type": "code",
   "execution_count": 3,
   "metadata": {},
   "outputs": [
    {
     "name": "stdout",
     "output_type": "stream",
     "text": [
      "Hola Mundo\n"
     ]
    }
   ],
   "source": [
    "print(\"Hola Mundo\")"
   ]
  },
  {
   "cell_type": "code",
   "execution_count": 11,
   "metadata": {},
   "outputs": [
    {
     "name": "stdout",
     "output_type": "stream",
     "text": [
      "hola \"como te llamas\"\n",
      "esta es una linea\n",
      "y esta es otra linea\n",
      "\testa es la tercera linea\n",
      "this isn'nt a number\n",
      "poner \\ una barra invertida es con 2 barras invertidas\n"
     ]
    }
   ],
   "source": [
    "#caracteres especiales\n",
    "print(\"hola \\\"como te llamas\\\"\")\n",
    "#lo que hace es tomar el siguiente caracter de la barra invertida como un caracter especial\n",
    "\n",
    "print(\"esta es una linea\\ny esta es otra linea\")\n",
    "#lo que hace el \\n ubica el texto a continuacion en otra linea a pesar que esta en el mismo print\n",
    "\n",
    "print(\"\\testa es la tercera linea\")\n",
    "#hace la iteracion como si fuera el tab.\n",
    "\n",
    "print('this isn\\'nt a number')\n",
    "#con la barra podes insertar el caracter especial\n",
    "\n",
    "print(\"poner \\\\ una barra invertida es con 2 barras invertidas\")\n",
    "\n"
   ]
  },
  {
   "cell_type": "code",
   "execution_count": 15,
   "metadata": {},
   "outputs": [
    {
     "name": "stdout",
     "output_type": "stream",
     "text": [
      "Luciano\n",
      "Sanders\n"
     ]
    }
   ],
   "source": [
    "#Input espera un ingreso\n",
    "print(input(\"pon tu nombre porfavoreeee\"))\n",
    "print(input(\"dime tu apellido\"))\n",
    "\n",
    "#de esta manera te pedira el nombre"
   ]
  },
  {
   "cell_type": "code",
   "execution_count": 17,
   "metadata": {},
   "outputs": [
    {
     "name": "stdout",
     "output_type": "stream",
     "text": [
      "Tu nombre es: Luciano Fernandez Sanders\n"
     ]
    }
   ],
   "source": [
    "print(\"Tu nombre es: \" + (input(\"Dime tu nombre: \")+ \" \" + (input(\"Dime tu apellido: \"))))\n",
    "\n",
    "#forma de pedir el nombre a traves de un print, con input. Ademas agregando un texto cuando haga el print \"tu nombre es: \"\n",
    "#con los resultados obtenidos, separando las funciones con +, o sea, pedio esto y el resultado + esto, y luego + este input."
   ]
  },
  {
   "cell_type": "code",
   "execution_count": 8,
   "metadata": {},
   "outputs": [
    {
     "name": "stdout",
     "output_type": "stream",
     "text": [
      "El nombre de tu cerveza se llama la:  \n",
      " \"El rojo Lupulo\"\n",
      "Felicitaciones\n"
     ]
    }
   ],
   "source": [
    "#Ejercicio \n",
    "print(\"El nombre de tu cerveza se llama la:  \" + \"\\n \\\"\"\n",
    "      + input(\"Cual es tu color preferido?\") \n",
    "      + \" \" \n",
    "      + input(\"Nombra un ingrediente vital de la cerveza:\")\n",
    "      + \"\\\"\")\n",
    "print(\"Felicitaciones\")"
   ]
  },
  {
   "cell_type": "code",
   "execution_count": null,
   "metadata": {},
   "outputs": [],
   "source": []
  }
 ],
 "metadata": {
  "kernelspec": {
   "display_name": "Python 3",
   "language": "python",
   "name": "python3"
  },
  "language_info": {
   "codemirror_mode": {
    "name": "ipython",
    "version": 3
   },
   "file_extension": ".py",
   "mimetype": "text/x-python",
   "name": "python",
   "nbconvert_exporter": "python",
   "pygments_lexer": "ipython3",
   "version": "3.12.5"
  }
 },
 "nbformat": 4,
 "nbformat_minor": 2
}
