{
 "cells": [
  {
   "cell_type": "markdown",
   "metadata": {},
   "source": [
    "Seccion 2 \n",
    "\n",
    "En esta seccion veremos\n",
    "string(str) \"son caracateres que van a ser definidos como texto\"\n",
    "integer(int) \"son numeros\"\n",
    "floating(float) \"son numeros con decimales\"\n",
    "listas(list) [\"Son listas enumeradas del 0 al infinito\"]\n",
    "diccionarios(dic) {los diccionarios se define un atributo y se le asigna el mismo} no hace falta que esten ordenados.\n",
    "Tuples(tuple) \"Son como las listas, y tienen un orden que no se puede modificar nunca\"\n",
    "Sets(set) \"Una lista con elementos unicos que no se pueden repetir\"\n",
    "Booleanos (bool) \"True or False\"\n",
    "\n",
    "La variable es un esacio donde podes alojar un valor, una funcion, un texto, lo que sea.\n",
    "\n",
    "\n",
    "\n"
   ]
  },
  {
   "cell_type": "code",
   "execution_count": 2,
   "metadata": {},
   "outputs": [
    {
     "name": "stdout",
     "output_type": "stream",
     "text": [
      "juan\n",
      "jorge\n"
     ]
    }
   ],
   "source": [
    "#Variables\n",
    "nombre = \"juan\" #nombre es la variable, y juan seria lo que esta dentro.\n",
    "print(nombre)\n",
    "#el print se hace en ese momento por eso da juan\n",
    "#pero tambien se puede cambiar el valor a esa variable\n",
    "nombre = \"jorge\"\n",
    "print(nombre)"
   ]
  },
  {
   "cell_type": "code",
   "execution_count": 3,
   "metadata": {},
   "outputs": [
    {
     "name": "stdout",
     "output_type": "stream",
     "text": [
      "45\n"
     ]
    }
   ],
   "source": [
    "#se puede sumar una variable con la otra\n",
    "edad = 30\n",
    "edad2 = 15\n",
    "print(edad + edad2)\n"
   ]
  },
  {
   "cell_type": "code",
   "execution_count": 6,
   "metadata": {},
   "outputs": [
    {
     "name": "stdout",
     "output_type": "stream",
     "text": [
      "tu nombre es Luciano\n"
     ]
    }
   ],
   "source": [
    "#Aqui se hace un input, se le pide al usuario el nombre\n",
    "# y luego se concatena un texto \"tu nombre es...\" + la variable de nombre que tiene el input.\n",
    "\n",
    "nombre = input(\"Dime tu nombre\")\n",
    "print(\"tu nombre es \" + nombre)"
   ]
  },
  {
   "cell_type": "code",
   "execution_count": 8,
   "metadata": {},
   "outputs": [
    {
     "name": "stdout",
     "output_type": "stream",
     "text": [
      "hola python\n"
     ]
    }
   ],
   "source": [
    "#Aqui son 2 variables en la que cad auna tiene un valor, y luego se crea otra variable haciendo la suma de las anteriores\n",
    "\n",
    "nombre = \"hola\"\n",
    "nombre2 = \"python\"\n",
    "frase = nombre + \" \" + nombre2\n",
    "print(frase)"
   ]
  },
  {
   "cell_type": "code",
   "execution_count": 10,
   "metadata": {},
   "outputs": [
    {
     "name": "stdout",
     "output_type": "stream",
     "text": [
      "80\n"
     ]
    }
   ],
   "source": [
    "#se crea 2 variables numericas para ver como se suma entre si\n",
    "edad = 30\n",
    "edad2 = 50\n",
    "frase2 = edad + edad2\n",
    "print(frase2)"
   ]
  },
  {
   "cell_type": "code",
   "execution_count": 17,
   "metadata": {},
   "outputs": [
    {
     "name": "stdout",
     "output_type": "stream",
     "text": [
      "1\n",
      "8\n",
      "11.6\n",
      "<class 'float'>\n"
     ]
    }
   ],
   "source": [
    "# integers son numeros enteros\n",
    "mi_numero = 1\n",
    "print(mi_numero)\n",
    "\n",
    "type(mi_numero) # funcion type se usa para saber que tipo es la variable\n",
    "\n",
    "mi_numero = 1 + 3 #podes establecer una suma dentro de la variable\n",
    "print(mi_numero + mi_numero) #Incluso podes sumar la propia variable con ella misma.\n",
    "\n",
    "mi_numero = 5.8 #Establecemos el valor con decimal\n",
    "mi_numero = mi_numero + mi_numero # Tambien se puede establecer que la variable anterior que valia 5.8\n",
    "# Se podra sumar entre si tambien\n",
    "print(mi_numero)\n",
    "type(mi_numero) #Una vez que establecemos decimla ya lo detecta como float\n",
    "\n",
    "mi_numero = 5.2 + 5.8\n",
    "print(type(mi_numero))\n",
    "\n",
    "# Floats son numeros con decimales"
   ]
  },
  {
   "cell_type": "code",
   "execution_count": null,
   "metadata": {},
   "outputs": [],
   "source": [
    "edad = input(\"Dime tu edad: \")\n",
    "print(\"Tu edad es \" + edad)\n",
    "\n",
    "nueva_edad = 1 + edad\n",
    "print(\"vas a cumplir \" + nueva_edad)\n",
    "\n",
    "# Da error porque hay que hacer una conversion entre tipos."
   ]
  },
  {
   "cell_type": "code",
   "execution_count": 19,
   "metadata": {},
   "outputs": [
    {
     "name": "stdout",
     "output_type": "stream",
     "text": [
      "<class 'float'>\n",
      "<class 'float'>\n"
     ]
    }
   ],
   "source": [
    "# Conversiones implicitas\n",
    "num1 = 20 #INT\n",
    "num2 = 30.5 #FLOAT\n",
    "\n",
    "num1 = num1 + num2 #Cuando una variable int se suma con una variable float automaticamente se tiene que converitr\n",
    "                    #por eso al final se convierte en float\n",
    "\n",
    "\n",
    "print(type(num1))\n",
    "print(type(num2))\n"
   ]
  },
  {
   "cell_type": "code",
   "execution_count": 24,
   "metadata": {},
   "outputs": [
    {
     "name": "stdout",
     "output_type": "stream",
     "text": [
      "5.8\n",
      "<class 'float'>\n",
      "5\n",
      "<class 'int'>\n",
      "Tu nueva edad vaa ser 29\n"
     ]
    }
   ],
   "source": [
    "#conversion de float a int\n",
    "\n",
    "num1 = 5.8 #float\n",
    "print(num1)\n",
    "print(type(num1))\n",
    "\n",
    "num2 = int(num1) # forma de conversion\n",
    "print(num2)\n",
    "print(type(num2))\n",
    "\n",
    "edad = input(\"Dime tu edad: \")\n",
    "edad = int(edad)\n",
    "nueva_edad = 1 + edad\n",
    "print(\"Tu nueva edad es \" + str(nueva_edad))\n",
    " #Se puede hacer pero no es lo correcto convertir un int en str, porque luego perdera su valor strg"
   ]
  },
  {
   "cell_type": "code",
   "execution_count": 27,
   "metadata": {},
   "outputs": [
    {
     "name": "stdout",
     "output_type": "stream",
     "text": [
      "3\n"
     ]
    }
   ],
   "source": [
    "num1 = 3.5\n",
    "print(int(num1))\n"
   ]
  },
  {
   "cell_type": "code",
   "execution_count": 36,
   "metadata": {},
   "outputs": [
    {
     "name": "stdout",
     "output_type": "stream",
     "text": [
      "17.5\n"
     ]
    }
   ],
   "source": [
    "num1 = \"7.5\"\n",
    "num2 = \"10\"\n",
    "print(float(num1) + int(num2))\n"
   ]
  },
  {
   "cell_type": "code",
   "execution_count": 41,
   "metadata": {},
   "outputs": [
    {
     "name": "stdout",
     "output_type": "stream",
     "text": [
      "Mis numeros son 10 y 5\n",
      "Mis numeros son 10 y 5\n",
      "La suma de 10 y 5 es igual a 15\n",
      "La suma de 10 y 5 es igual a 15\n",
      "El auto es rojo y su matricula es 541926\n"
     ]
    }
   ],
   "source": [
    "#Funcion format\n",
    "#print(\"Mi auto es {} y de matricula {}\".format(color_auto,matricula))\n",
    "\n",
    "x = 10\n",
    "y = 5\n",
    "print(\"Mis numeros son \" + str(x) + \" y \" + str(y))\n",
    "\n",
    "#con funcion format\n",
    "print(\"Mis numeros son {} y {}\".format(x,y))\n",
    "\n",
    "#Operaciones\n",
    "print(\"La suma de {} y {} es igual a {}\".format(x,y,x+y))\n",
    "\n",
    "#o otra manera de hacerlo\n",
    "x = 10\n",
    "y = 5\n",
    "z = x + y\n",
    "print(\"La suma de {} y {} es igual a {}\".format(x,y,z))\n",
    "\n",
    "\n",
    "\n",
    "\n",
    "\n",
    "#Cadenas literales (f)\n",
    "#print(f\"Mi auto es {color_auto} y de matricula {matricula}\"\")\n",
    "\n",
    "color = \"rojo\"\n",
    "matricula = 541926\n",
    "print(f\"El auto es {color} y su matricula es {matricula}\")\n",
    "\n",
    "\n"
   ]
  },
  {
   "cell_type": "code",
   "execution_count": 47,
   "metadata": {},
   "outputs": [
    {
     "name": "stdout",
     "output_type": "stream",
     "text": [
      "6 mas 2 es igual a 8\n",
      "6 menos 2 es igual a 4\n",
      "6 por 2 es igual a 12\n",
      "6 dividido 2 es igual a 3.0\n",
      "7 divido al piso de 2 es igual a 3\n",
      "7 modulo de 2 es igual 1\n",
      "6 elevado a la 2 es igual a 36\n",
      "6 elevado a la 3 es igual a 216\n",
      "La raiz cuadrada de 9 es 3.0\n"
     ]
    }
   ],
   "source": [
    "#operadores\n",
    "\n",
    "x = 6\n",
    "y = 2\n",
    "z = 7\n",
    "\n",
    "print(f\"{x} mas {y} es igual a {x+y}\")\n",
    "print(f\"{x} menos {y} es igual a {x-y}\")\n",
    "print(f\"{x} por {y} es igual a {x*y}\")\n",
    "print(f\"{x} dividido {y} es igual a {x/y}\")\n",
    "\n",
    "# de esta manera hace una division al piso con las //\n",
    "print(f\"{z} divido al piso de {y} es igual a {z//y}\") \n",
    "\n",
    "#Si de una division queda un resto, ese resto es el modulo.\n",
    "# de esta manera se obtiene el modulo\n",
    "print(f\"{z} modulo de {y} es igual {z%y}\")\n",
    "\n",
    "#Como hacer al cuadrado\n",
    "#La cantidad de asteriscos \n",
    "print(f\"{x} elevado a la {y} es igual a {x**y}\")\n",
    "\n",
    "#Como hacer elevado a la 3\n",
    "print(f\"{x} elevado a la {3} es igual a {x**3}\")\n",
    "\n",
    "#Para obtener la raiz cuadrada\n",
    "#Cualquier numero elevado a la 2 y 0.5 te va a dar la raiz cuadrada.\n",
    "print(f\"La raiz cuadrada de {9} es {9**0.5}\")\n",
    "\n"
   ]
  },
  {
   "cell_type": "code",
   "execution_count": 52,
   "metadata": {},
   "outputs": [
    {
     "name": "stdout",
     "output_type": "stream",
     "text": [
      "13\n",
      "13\n"
     ]
    }
   ],
   "source": [
    "#Float sentencia round(numero,cantida de decimales)\n",
    "print(round(90/7))\n",
    "\n",
    "resultado = round(90/7)\n",
    "print(resultado)\n",
    "\n",
    "print(round(90/7,2))  #Asigno 2 decimales para que me devuelva"
   ]
  },
  {
   "cell_type": "code",
   "execution_count": 57,
   "metadata": {},
   "outputs": [
    {
     "name": "stdout",
     "output_type": "stream",
     "text": [
      "11\n",
      "2.2361\n",
      "14\n",
      "13\n",
      "<class 'float'>\n",
      "6.0\n"
     ]
    }
   ],
   "source": [
    "valor = 10.6767\n",
    "print(round(valor))\n",
    "\n",
    "raiz5 = 5\n",
    "print(round(raiz5**0.5,4))\n",
    "\n",
    "\n",
    "num1 = 13.87\n",
    "print(round(num1))\n",
    "print(int(num1))\n",
    "\n",
    "\n",
    "numx = round(13/2,0)\n",
    "print(type(numx))\n",
    "print(numx)\n",
    "\n",
    "#¿Cuál de los siguientes operadores me ayudaría a detectar si un valor es par o impar?\n",
    "#EL MODULO\n",
    "\n"
   ]
  },
  {
   "cell_type": "code",
   "execution_count": 73,
   "metadata": {},
   "outputs": [
    {
     "name": "stdout",
     "output_type": "stream",
     "text": [
      "Hola lucho\n",
      "Has vendido 100000\n",
      "Tus comisiones de este mes son de 13000.0\n"
     ]
    }
   ],
   "source": [
    "#Proyecto Dia 2\n",
    "\n",
    "#Programa que pregunte nombre y cuanto han vendido en este mes\n",
    "Cual_es_tu_nombre = input(\"¿Cual es tu nombre?\")\n",
    "print(\"Hola \"+ Cual_es_tu_nombre)\n",
    "Ventas = input(\"¿Cuantas ventas has tenido este mes?\")\n",
    "print(\"Has vendido \" + Ventas)\n",
    "comision = float(Ventas) * 13\n",
    "comision2 = comision/100\n",
    "print(f\"Tus comisiones de este mes son de ${comision2}\")\n",
    "\n",
    "\n"
   ]
  },
  {
   "cell_type": "code",
   "execution_count": 75,
   "metadata": {},
   "outputs": [
    {
     "name": "stdout",
     "output_type": "stream",
     "text": [
      "Hola Luciano Fernandez Sanders, responde la siguiente pregunta\n",
      "Felicidades, tu comision es de 9100.0\n"
     ]
    }
   ],
   "source": [
    "#Version 2\n",
    "tu_nombre = input(\"Hola bienvenidx, ¿Cual es tu nombre?\")\n",
    "print(f\"Hola {tu_nombre}, responde la siguiente pregunta\")\n",
    "cventas = input(\"¿Cuanto es has recaudado este mes\")\n",
    "comision  = float(cventas)*13\n",
    "resultadocomision = comision/100\n",
    "print(f\"Felicidades, tu comision es de ${resultadocomision}\")\n"
   ]
  },
  {
   "cell_type": "code",
   "execution_count": 79,
   "metadata": {},
   "outputs": [
    {
     "name": "stdout",
     "output_type": "stream",
     "text": [
      "Felicidades Luciano, tu comision es de $1300\n"
     ]
    }
   ],
   "source": [
    "#Version 3\n",
    "tu_nombre = input(\"Hola bienvenidx, ¿Cual es tu nombre?\")\n",
    "cventas = int(input(\"¿Cuanto es has recaudado este mes)\"))\n",
    "comision = round(cventas * 13 / 100)\n",
    "print(f\"Felicidades {tu_nombre}, tu comision es de ${comision}\")\n"
   ]
  }
 ],
 "metadata": {
  "kernelspec": {
   "display_name": "Python 3",
   "language": "python",
   "name": "python3"
  },
  "language_info": {
   "codemirror_mode": {
    "name": "ipython",
    "version": 3
   },
   "file_extension": ".py",
   "mimetype": "text/x-python",
   "name": "python",
   "nbconvert_exporter": "python",
   "pygments_lexer": "ipython3",
   "version": "3.12.5"
  }
 },
 "nbformat": 4,
 "nbformat_minor": 2
}
